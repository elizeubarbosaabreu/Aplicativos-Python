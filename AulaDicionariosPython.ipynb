{
  "nbformat": 4,
  "nbformat_minor": 0,
  "metadata": {
    "colab": {
      "name": "AulaDicionariosPython.ipynb",
      "provenance": [],
      "authorship_tag": "ABX9TyMF+nR3uwVKM3SY2PVlW5db",
      "include_colab_link": true
    },
    "kernelspec": {
      "name": "python3",
      "display_name": "Python 3"
    },
    "language_info": {
      "name": "python"
    }
  },
  "cells": [
    {
      "cell_type": "markdown",
      "metadata": {
        "id": "view-in-github",
        "colab_type": "text"
      },
      "source": [
        "<a href=\"https://colab.research.google.com/github/elizeubarbosaabreu/Aplicativos-Python/blob/main/AulaDicionariosPython.ipynb\" target=\"_parent\"><img src=\"https://colab.research.google.com/assets/colab-badge.svg\" alt=\"Open In Colab\"/></a>"
      ]
    },
    {
      "cell_type": "code",
      "metadata": {
        "colab": {
          "base_uri": "https://localhost:8080/"
        },
        "id": "WQkJjCjMApbA",
        "outputId": "78914378-12b2-40a8-9745-e5cdf6126c3b"
      },
      "source": [
        "qt = int(input('Quantidade de alunos a cadastrar: '))"
      ],
      "execution_count": 1,
      "outputs": [
        {
          "name": "stdout",
          "output_type": "stream",
          "text": [
            "Quantidade de alunos a cadastrar: 5\n"
          ]
        }
      ]
    },
    {
      "cell_type": "code",
      "metadata": {
        "colab": {
          "base_uri": "https://localhost:8080/"
        },
        "id": "urAvUqKbA-qO",
        "outputId": "cd46aa11-776c-4fab-f005-025fd4f26f3d"
      },
      "source": [
        "aluno = dict()\n",
        "escola = []\n",
        "\n",
        "for i in range(qt):\n",
        "  nome = str(input('Entre com o nome: '))\n",
        "  media = float(input('Digite a média: '))\n",
        "  if media <= 5:\n",
        "    result = 'reprovado'\n",
        "  elif media < 7:\n",
        "    result = 'recuperação'\n",
        "  else:\n",
        "    result = 'aprovado'\n",
        "\n",
        "  aluno['nome'] = nome\n",
        "  aluno['media'] = media\n",
        "  aluno['result'] = result\n",
        "\n",
        "  escola.append(aluno.copy())\n",
        "\n",
        "print(escola)"
      ],
      "execution_count": 2,
      "outputs": [
        {
          "output_type": "stream",
          "name": "stdout",
          "text": [
            "Entre com o nome: Jose\n",
            "Digite a média: 6.5\n",
            "Entre com o nome: Maria\n",
            "Digite a média: 5\n",
            "Entre com o nome: Pedro\n",
            "Digite a média: 7\n",
            "Entre com o nome: Adrian\n",
            "Digite a média: 9.5\n",
            "Entre com o nome: Elizeu\n",
            "Digite a média: 9.2\n",
            "[{'nome': 'Jose', 'media': 6.5, 'result': 'recuperação'}, {'nome': 'Maria', 'media': 5.0, 'result': 'reprovado'}, {'nome': 'Pedro', 'media': 7.0, 'result': 'aprovado'}, {'nome': 'Adrian', 'media': 9.5, 'result': 'aprovado'}, {'nome': 'Elizeu', 'media': 9.2, 'result': 'aprovado'}]\n"
          ]
        }
      ]
    },
    {
      "cell_type": "code",
      "metadata": {
        "colab": {
          "base_uri": "https://localhost:8080/"
        },
        "id": "NQOctPt9DGNN",
        "outputId": "a50ff67f-c9d4-4a0e-9191-fba09d6cf59b"
      },
      "source": [
        "for i in escola:\n",
        "  for k, v in i.items():\n",
        "    print(f'{k} -----> {v}')\n",
        "  print('-'*50)"
      ],
      "execution_count": 4,
      "outputs": [
        {
          "output_type": "stream",
          "name": "stdout",
          "text": [
            "nome -----> Jose\n",
            "media -----> 6.5\n",
            "result -----> recuperação\n",
            "--------------------------------------------------\n",
            "nome -----> Maria\n",
            "media -----> 5.0\n",
            "result -----> reprovado\n",
            "--------------------------------------------------\n",
            "nome -----> Pedro\n",
            "media -----> 7.0\n",
            "result -----> aprovado\n",
            "--------------------------------------------------\n",
            "nome -----> Adrian\n",
            "media -----> 9.5\n",
            "result -----> aprovado\n",
            "--------------------------------------------------\n",
            "nome -----> Elizeu\n",
            "media -----> 9.2\n",
            "result -----> aprovado\n",
            "--------------------------------------------------\n"
          ]
        }
      ]
    },
    {
      "cell_type": "code",
      "metadata": {
        "id": "-N02UHO6Dyb8"
      },
      "source": [
        ""
      ],
      "execution_count": null,
      "outputs": []
    }
  ]
}