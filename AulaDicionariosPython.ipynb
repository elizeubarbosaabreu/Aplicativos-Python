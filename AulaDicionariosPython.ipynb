{
  "cells": [
    {
      "cell_type": "markdown",
      "metadata": {
        "colab_type": "text",
        "id": "view-in-github"
      },
      "source": [
        "<a href=\"https://colab.research.google.com/github/elizeubarbosaabreu/Aplicativos-Python/blob/main/AulaDicionariosPython.ipynb\" target=\"_parent\"><img src=\"https://colab.research.google.com/assets/colab-badge.svg\" alt=\"Open In Colab\"/></a>"
      ]
    },
    {
      "cell_type": "code",
      "execution_count": 1,
      "metadata": {
        "colab": {
          "base_uri": "https://localhost:8080/"
        },
        "id": "WQkJjCjMApbA",
        "outputId": "78914378-12b2-40a8-9745-e5cdf6126c3b"
      },
      "outputs": [],
      "source": [
        "qt = int(input('Quantidade de alunos a cadastrar: '))"
      ]
    },
    {
      "cell_type": "code",
      "execution_count": 2,
      "metadata": {
        "colab": {
          "base_uri": "https://localhost:8080/"
        },
        "id": "urAvUqKbA-qO",
        "outputId": "cd46aa11-776c-4fab-f005-025fd4f26f3d"
      },
      "outputs": [
        {
          "name": "stdout",
          "output_type": "stream",
          "text": [
            "[{'nome': 'Adrian', 'media': 85.0, 'result': 'aprovado'}, {'nome': 'Pedro', 'media': 75.0, 'result': 'aprovado'}]\n"
          ]
        }
      ],
      "source": [
        "aluno = dict()\n",
        "escola = []\n",
        "\n",
        "for i in range(qt):\n",
        "  nome = str(input('Entre com o nome: '))\n",
        "  media = float(input('Digite a média: '))\n",
        "  if media <= 5:\n",
        "    result = 'reprovado'\n",
        "  elif media < 7:\n",
        "    result = 'recuperação'\n",
        "  else:\n",
        "    result = 'aprovado'\n",
        "\n",
        "  aluno['nome'] = nome\n",
        "  aluno['media'] = media\n",
        "  aluno['result'] = result\n",
        "\n",
        "  escola.append(aluno.copy())\n",
        "\n",
        "print(escola)"
      ]
    },
    {
      "cell_type": "code",
      "execution_count": 3,
      "metadata": {
        "colab": {
          "base_uri": "https://localhost:8080/"
        },
        "id": "NQOctPt9DGNN",
        "outputId": "a50ff67f-c9d4-4a0e-9191-fba09d6cf59b"
      },
      "outputs": [
        {
          "name": "stdout",
          "output_type": "stream",
          "text": [
            "nome -----> Adrian\n",
            "media -----> 85.0\n",
            "result -----> aprovado\n",
            "--------------------------------------------------\n",
            "nome -----> Pedro\n",
            "media -----> 75.0\n",
            "result -----> aprovado\n",
            "--------------------------------------------------\n"
          ]
        }
      ],
      "source": [
        "for i in escola:\n",
        "  for k, v in i.items():\n",
        "    print(f'{k} -----> {v}')\n",
        "  print('-'*50)"
      ]
    },
    {
      "cell_type": "code",
      "execution_count": null,
      "metadata": {
        "id": "-N02UHO6Dyb8"
      },
      "outputs": [],
      "source": []
    }
  ],
  "metadata": {
    "colab": {
      "authorship_tag": "ABX9TyMF+nR3uwVKM3SY2PVlW5db",
      "include_colab_link": true,
      "name": "AulaDicionariosPython.ipynb",
      "provenance": []
    },
    "kernelspec": {
      "display_name": ".venv",
      "language": "python",
      "name": "python3"
    },
    "language_info": {
      "codemirror_mode": {
        "name": "ipython",
        "version": 3
      },
      "file_extension": ".py",
      "mimetype": "text/x-python",
      "name": "python",
      "nbconvert_exporter": "python",
      "pygments_lexer": "ipython3",
      "version": "3.12.3"
    }
  },
  "nbformat": 4,
  "nbformat_minor": 0
}
