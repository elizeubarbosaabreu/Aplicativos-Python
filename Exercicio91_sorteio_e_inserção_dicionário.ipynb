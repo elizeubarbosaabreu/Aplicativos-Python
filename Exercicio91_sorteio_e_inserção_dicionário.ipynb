{
  "nbformat": 4,
  "nbformat_minor": 0,
  "metadata": {
    "colab": {
      "name": "Exercicio91_sorteio_e_inserção_dicionário.ipynb",
      "provenance": [],
      "authorship_tag": "ABX9TyOcsmS1FkucdQBqwZnLKoHl",
      "include_colab_link": true
    },
    "kernelspec": {
      "name": "python3",
      "display_name": "Python 3"
    },
    "language_info": {
      "name": "python"
    }
  },
  "cells": [
    {
      "cell_type": "markdown",
      "metadata": {
        "id": "view-in-github",
        "colab_type": "text"
      },
      "source": [
        "<a href=\"https://colab.research.google.com/github/elizeubarbosaabreu/Aplicativos-Python/blob/main/Exercicio91_sorteio_e_inser%C3%A7%C3%A3o_dicion%C3%A1rio.ipynb\" target=\"_parent\"><img src=\"https://colab.research.google.com/assets/colab-badge.svg\" alt=\"Open In Colab\"/></a>"
      ]
    },
    {
      "cell_type": "code",
      "metadata": {
        "id": "XwPwidBipokR"
      },
      "source": [
        "from random import randint\n",
        "jogadas = dict()\n",
        "lista = []"
      ],
      "execution_count": 20,
      "outputs": []
    },
    {
      "cell_type": "code",
      "metadata": {
        "id": "djW4nm8op4wB"
      },
      "source": [
        "def jogada():\n",
        "  return randint(1,6)"
      ],
      "execution_count": 18,
      "outputs": []
    },
    {
      "cell_type": "code",
      "metadata": {
        "colab": {
          "base_uri": "https://localhost:8080/"
        },
        "id": "D7go2IUuqUfN",
        "outputId": "ada8e78a-bb45-46f1-a277-20d1d4202083"
      },
      "source": [
        "for jogadores in range(4):\n",
        "  jogadas['jogador'] = jogadores+1\n",
        "  jogadas['pontuação'] = jogada() + jogada()\n",
        "  print(f'O Jogador {jogadas[\"jogador\"]} jogou dois dados e fez {jogadas[\"pontuação\"]}...')\n",
        "  lista.append(jogadas.copy())\n",
        "\n"
      ],
      "execution_count": 38,
      "outputs": [
        {
          "output_type": "stream",
          "name": "stdout",
          "text": [
            "O Jogador 1 jogou dois dados e fez 8...\n",
            "O Jogador 2 jogou dois dados e fez 5...\n",
            "O Jogador 3 jogou dois dados e fez 8...\n",
            "O Jogador 4 jogou dois dados e fez 7...\n"
          ]
        }
      ]
    },
    {
      "cell_type": "code",
      "metadata": {
        "colab": {
          "base_uri": "https://localhost:8080/"
        },
        "id": "D77YgkQ0qW3H",
        "outputId": "6aad1cb3-4860-4640-978f-d01c47e8c696"
      },
      "source": [
        "print(lista)"
      ],
      "execution_count": 37,
      "outputs": [
        {
          "output_type": "stream",
          "name": "stdout",
          "text": [
            "[{'jogador': 1, 'pontuação': 4}, {'jogador': 2, 'pontuação': 5}, {'jogador': 3, 'pontuação': 1}, {'jogador': 4, 'pontuação': 6}, {'jogador': 1, 'pontuação': 1}, {'jogador': 2, 'pontuação': 1}, {'jogador': 3, 'pontuação': 1}, {'jogador': 4, 'pontuação': 1}, {'jogador': 1, 'pontuação': 1}, {'jogador': 2, 'pontuação': 1}, {'jogador': 3, 'pontuação': 5}, {'jogador': 4, 'pontuação': 1}, {'jogador': 1, 'pontuação': 1}, {'jogador': 2, 'pontuação': 1}, {'jogador': 3, 'pontuação': 5}, {'jogador': 4, 'pontuação': 4}, {'jogador': 1, 'pontuação': 5}, {'jogador': 2, 'pontuação': 6}, {'jogador': 3, 'pontuação': 2}, {'jogador': 4, 'pontuação': 2}, {'jogador': 1, 'pontuação': 5}, {'jogador': 2, 'pontuação': 5}, {'jogador': 3, 'pontuação': 3}, {'jogador': 4, 'pontuação': 3}, {'jogador': 1, 'pontuação': 10}, {'jogador': 2, 'pontuação': 7}, {'jogador': 3, 'pontuação': 7}, {'jogador': 4, 'pontuação': 8}, {'jogador': 1, 'pontuação': 11}, {'jogador': 2, 'pontuação': 11}, {'jogador': 3, 'pontuação': 8}, {'jogador': 4, 'pontuação': 5}]\n"
          ]
        }
      ]
    },
    {
      "cell_type": "code",
      "metadata": {
        "id": "04wlwxd_sipI"
      },
      "source": [
        ""
      ],
      "execution_count": 30,
      "outputs": []
    },
    {
      "cell_type": "code",
      "metadata": {
        "id": "p4Udhh99uHRi"
      },
      "source": [
        ""
      ],
      "execution_count": null,
      "outputs": []
    }
  ]
}