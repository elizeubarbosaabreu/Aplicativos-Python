{
  "nbformat": 4,
  "nbformat_minor": 0,
  "metadata": {
    "colab": {
      "name": "Aula93_Cadastro Jogador de Futebol.ipynb",
      "provenance": [],
      "authorship_tag": "ABX9TyNxBXMByVcldVfLBbsIkm/N",
      "include_colab_link": true
    },
    "kernelspec": {
      "name": "python3",
      "display_name": "Python 3"
    },
    "language_info": {
      "name": "python"
    }
  },
  "cells": [
    {
      "cell_type": "markdown",
      "metadata": {
        "id": "view-in-github",
        "colab_type": "text"
      },
      "source": [
        "<a href=\"https://colab.research.google.com/github/elizeubarbosaabreu/Aplicativos-Python/blob/main/Aula93_Cadastro_Jogador_de_Futebol.ipynb\" target=\"_parent\"><img src=\"https://colab.research.google.com/assets/colab-badge.svg\" alt=\"Open In Colab\"/></a>"
      ]
    },
    {
      "cell_type": "code",
      "metadata": {
        "id": "xnYCkuk8FK95"
      },
      "source": [
        "jogador = dict()\n",
        "gols = list()\n",
        "gol = 0\n",
        "\n",
        "# Também poderia ser:\n",
        "# jogador = {} \n"
      ],
      "execution_count": 13,
      "outputs": []
    },
    {
      "cell_type": "code",
      "metadata": {
        "colab": {
          "base_uri": "https://localhost:8080/"
        },
        "id": "tG7ZpqwhGyY-",
        "outputId": "c645b251-4345-4471-a011-a94c231c4e10"
      },
      "source": [
        "print('-='*35)\n",
        "nome = str(input('Digite o nome do jogador: '))\n",
        "jogadas = int(input(f'De quantos jogos {nome} participou? '))\n",
        "print('-='*35)\n",
        "for i in range(jogadas):\n",
        "  gol = int(input(f'Quantos gols {nome} fez no {i+1}° jogo? '))\n",
        "  gols.append(gol)\n",
        "tot_gol = sum(gols)\n",
        "\n"
      ],
      "execution_count": 14,
      "outputs": [
        {
          "name": "stdout",
          "output_type": "stream",
          "text": [
            "-=-=-=-=-=-=-=-=-=-=-=-=-=-=-=-=-=-=-=-=-=-=-=-=-=-=-=-=-=-=-=-=-=-=-=\n",
            "Digite o nome do jogador: Pelé\n",
            "De quantos jogos Pelé participou? 5\n",
            "-=-=-=-=-=-=-=-=-=-=-=-=-=-=-=-=-=-=-=-=-=-=-=-=-=-=-=-=-=-=-=-=-=-=-=\n",
            "Quantos gols Pelé fez no 1° jogo? 1\n",
            "Quantos gols Pelé fez no 2° jogo? 2\n",
            "Quantos gols Pelé fez no 3° jogo? 1\n",
            "Quantos gols Pelé fez no 4° jogo? 0\n",
            "Quantos gols Pelé fez no 5° jogo? 5\n"
          ]
        }
      ]
    },
    {
      "cell_type": "code",
      "metadata": {
        "colab": {
          "base_uri": "https://localhost:8080/"
        },
        "id": "ZrK9RrA-IY6o",
        "outputId": "6bfa9bf8-ea52-415f-9b83-83ac33ac441a"
      },
      "source": [
        "jogador['Nome'] = nome\n",
        "jogador['Gols'] = gols\n",
        "jogador['Total de Gols'] = tot_gol\n",
        "print('-='*35)\n",
        "print(jogador) \n",
        "print('-='*35)\n",
        "print(\n",
        "    f'''\n",
        "    O Campo \"Nome\" tem o valor: {jogador['Nome']}\n",
        "    O Campo \"Gols\" tem o(s) valor(es): {jogador['Gols']}\n",
        "    O Campo \"Total de Gols\" tem o valor: {jogador['Total de Gols']}                                   \n",
        "    '''\n",
        ")\n",
        "print('-='*35)\n",
        "for k, v in jogador.items():\n",
        "  print(f'{k} : {v}')"
      ],
      "execution_count": 15,
      "outputs": [
        {
          "output_type": "stream",
          "name": "stdout",
          "text": [
            "-=-=-=-=-=-=-=-=-=-=-=-=-=-=-=-=-=-=-=-=-=-=-=-=-=-=-=-=-=-=-=-=-=-=-=\n",
            "{'Nome': 'Pelé', 'Gols': [1, 2, 1, 0, 5], 'Total de Gols': 9}\n",
            "-=-=-=-=-=-=-=-=-=-=-=-=-=-=-=-=-=-=-=-=-=-=-=-=-=-=-=-=-=-=-=-=-=-=-=\n",
            "\n",
            "    O Campo \"Nome\" tem o valor: Pelé\n",
            "    O Campo \"Gols\" tem o(s) valor(es): [1, 2, 1, 0, 5]\n",
            "    O Campo \"Total de Gols\" tem o valor: 9                                   \n",
            "    \n",
            "-=-=-=-=-=-=-=-=-=-=-=-=-=-=-=-=-=-=-=-=-=-=-=-=-=-=-=-=-=-=-=-=-=-=-=\n",
            "Nome : Pelé\n",
            "Gols : [1, 2, 1, 0, 5]\n",
            "Total de Gols : 9\n"
          ]
        }
      ]
    },
    {
      "cell_type": "code",
      "metadata": {
        "id": "wx9RCqnaKB1e"
      },
      "source": [
        ""
      ],
      "execution_count": null,
      "outputs": []
    }
  ]
}