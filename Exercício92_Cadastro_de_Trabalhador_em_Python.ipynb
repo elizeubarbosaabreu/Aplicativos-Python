{
  "nbformat": 4,
  "nbformat_minor": 0,
  "metadata": {
    "colab": {
      "name": "Exercício92-Cadastro_de_Trabalhador_em Python.ipynb",
      "provenance": [],
      "collapsed_sections": [],
      "authorship_tag": "ABX9TyPExxQaya9LtN6SKQlY4v6/",
      "include_colab_link": true
    },
    "kernelspec": {
      "name": "python3",
      "display_name": "Python 3"
    },
    "language_info": {
      "name": "python"
    }
  },
  "cells": [
    {
      "cell_type": "markdown",
      "metadata": {
        "id": "view-in-github",
        "colab_type": "text"
      },
      "source": [
        "<a href=\"https://colab.research.google.com/github/elizeubarbosaabreu/Aplicativos-Python/blob/main/Exerc%C3%ADcio92_Cadastro_de_Trabalhador_em_Python.ipynb\" target=\"_parent\"><img src=\"https://colab.research.google.com/assets/colab-badge.svg\" alt=\"Open In Colab\"/></a>"
      ]
    },
    {
      "cell_type": "code",
      "metadata": {
        "id": "iOP6FaKSIn6R"
      },
      "source": [
        "trabalhador = {}"
      ],
      "execution_count": 1,
      "outputs": []
    },
    {
      "cell_type": "code",
      "metadata": {
        "colab": {
          "base_uri": "https://localhost:8080/"
        },
        "id": "i06qfJ5IMVpI",
        "outputId": "4d408404-3dfe-43f9-dfd8-ba1c6d01783f"
      },
      "source": [
        "print('{:-^50}'.format('TRABALHADOR'))\n",
        "trabalhador['nome'] = str(input('Nome do trabalhador: '))\n",
        "ano_nasc = int(input('Em que ano nasceu: '))\n",
        "if ano_nasc > 2021:\n",
        "  print('Data inválida!')\n",
        "  while ano_nasc > 2021:\n",
        "    ano_nasc = int(input('Insira o ano de nascimento corretamente: '))\n",
        "trabalhador['idade'] = 2021 - ano_nasc\n",
        "trabalhador['ctps'] = str(input('Entre com o número da ctps: '))\n",
        "if trabalhador['ctps'].isnumeric():\n",
        "  trabalhador['ano_contrat'] = int(input('Em que ano você foi contratado: '))\n",
        "  trabalhador['aposenta'] = trabalhador['ano_contrat'] + 35\n",
        "\n",
        "else:\n",
        "  print('CTPS inválida')\n",
        "\n",
        "  "
      ],
      "execution_count": 9,
      "outputs": [
        {
          "name": "stdout",
          "output_type": "stream",
          "text": [
            "-------------------TRABALHADOR--------------------\n",
            "Nome do trabalhador: Elizeu\n",
            "Em que ano nasceu: 1987\n",
            "Entre com o número da ctps: 123\n",
            "Em que ano você foi contratado: 2007\n"
          ]
        }
      ]
    },
    {
      "cell_type": "code",
      "metadata": {
        "colab": {
          "base_uri": "https://localhost:8080/"
        },
        "id": "6vq5PTLcNl04",
        "outputId": "fd9c1fb4-5c49-4702-80c4-a6f41fa9a6cb"
      },
      "source": [
        " print(' -=' * 30)\n",
        " for k, v in trabalhador.items():\n",
        "  print(f'{k} ---> {v}')\n",
        " print(' -=' * 30)"
      ],
      "execution_count": 10,
      "outputs": [
        {
          "output_type": "stream",
          "name": "stdout",
          "text": [
            " -= -= -= -= -= -= -= -= -= -= -= -= -= -= -= -= -= -= -= -= -= -= -= -= -= -= -= -= -= -=\n",
            "nome ---> Elizeu\n",
            "ano_nas ---> 1987\n",
            "idade ---> 34\n",
            "ctps ---> 123\n",
            "ano_contrat ---> 2007\n",
            "aposenta ---> 2042\n",
            " -= -= -= -= -= -= -= -= -= -= -= -= -= -= -= -= -= -= -= -= -= -= -= -= -= -= -= -= -= -=\n"
          ]
        }
      ]
    },
    {
      "cell_type": "code",
      "metadata": {
        "id": "lHfr96kgROFm"
      },
      "source": [
        ""
      ],
      "execution_count": null,
      "outputs": []
    }
  ]
}